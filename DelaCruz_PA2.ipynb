{
 "cells": [
  {
   "cell_type": "markdown",
   "id": "e401d386-411c-4d4d-b3b9-5c5d5b07179a",
   "metadata": {},
   "source": [
    "PROBLEM 1: NORMALIZATION"
   ]
  },
  {
   "cell_type": "code",
   "execution_count": 9,
   "id": "6fad3363-3b1e-4861-9bdf-499822b0ddbc",
   "metadata": {},
   "outputs": [
    {
     "name": "stdout",
     "output_type": "stream",
     "text": [
      "Original Array (X):\n",
      " [[0.83906145 0.93027198 0.30209647 0.8907496  0.5493837 ]\n",
      " [0.41909999 0.18595831 0.88855934 0.98747986 0.56262872]\n",
      " [0.80318505 0.7331002  0.54194218 0.88943946 0.95402703]\n",
      " [0.4059406  0.5170133  0.9488314  0.51866983 0.08111191]\n",
      " [0.90258918 0.3620065  0.75509363 0.19450064 0.98377142]]\n"
     ]
    }
   ],
   "source": [
    "import numpy as np                               # Load NumPy for array operations\n",
    "X = np.random.rand(5, 5)                         # Make a 5x5 array filled with random numbers\n",
    "print(\"Original Array (X):\\n\", X)                # Show the unprocessed array"
   ]
  },
  {
   "cell_type": "code",
   "execution_count": 10,
   "id": "9112fcc3-d3e1-49c6-9c54-adad5ebd0896",
   "metadata": {
    "scrolled": true
   },
   "outputs": [
    {
     "name": "stdout",
     "output_type": "stream",
     "text": [
      "Original X:\n",
      " [[0.83906145 0.93027198 0.30209647 0.8907496  0.5493837 ]\n",
      " [0.41909999 0.18595831 0.88855934 0.98747986 0.56262872]\n",
      " [0.80318505 0.7331002  0.54194218 0.88943946 0.95402703]\n",
      " [0.4059406  0.5170133  0.9488314  0.51866983 0.08111191]\n",
      " [0.90258918 0.3620065  0.75509363 0.19450064 0.98377142]]\n",
      "\n",
      "Normalized X:\n",
      " [[ 0.69606938  1.02468494 -1.23852158  0.88229271 -0.34758894]\n",
      " [-0.81697835 -1.65694707  0.87440159  1.23079494 -0.29986944]\n",
      " [ 0.56681297  0.31430948 -0.37439944  0.87757253  1.11027025]\n",
      " [-0.86438933 -0.46421384  1.09155131 -0.45824566 -2.03469035]\n",
      " [ 0.92494866 -1.02267624  0.39354799 -1.62617058  1.21743408]]\n"
     ]
    }
   ],
   "source": [
    "mean = X.mean()                            # This computes the mean of X\n",
    "std = X.std()                              # This computes the standard deviation of X\n",
    "X_normalized = (X - mean) / std            # Formula for normalization\n",
    "\n",
    "np.save(\"X_normalized.npy\", X_normalized)  # Save the normalized array as \"X_normalized.npy\"\n",
    "\n",
    "print(\"Original X:\\n\", X)\n",
    "print(\"\\nNormalized X:\\n\", X_normalized)"
   ]
  },
  {
   "cell_type": "markdown",
   "id": "2c23683b-9f82-4062-86b5-7d75ff39f564",
   "metadata": {},
   "source": [
    "PROBLEM 2: NUMBERS DIVISIBLE BY 3"
   ]
  },
  {
   "cell_type": "code",
   "execution_count": 11,
   "id": "a76e9cd2-a0c9-437d-b190-feb70a5ffd8a",
   "metadata": {
    "scrolled": true
   },
   "outputs": [
    {
     "name": "stdout",
     "output_type": "stream",
     "text": [
      "10x10 Array of Squares:\n",
      " [[    1     4     9    16    25    36    49    64    81   100]\n",
      " [  121   144   169   196   225   256   289   324   361   400]\n",
      " [  441   484   529   576   625   676   729   784   841   900]\n",
      " [  961  1024  1089  1156  1225  1296  1369  1444  1521  1600]\n",
      " [ 1681  1764  1849  1936  2025  2116  2209  2304  2401  2500]\n",
      " [ 2601  2704  2809  2916  3025  3136  3249  3364  3481  3600]\n",
      " [ 3721  3844  3969  4096  4225  4356  4489  4624  4761  4900]\n",
      " [ 5041  5184  5329  5476  5625  5776  5929  6084  6241  6400]\n",
      " [ 6561  6724  6889  7056  7225  7396  7569  7744  7921  8100]\n",
      " [ 8281  8464  8649  8836  9025  9216  9409  9604  9801 10000]]\n"
     ]
    }
   ],
   "source": [
    "import numpy as np                              # Import the NumPy library\n",
    "A = np.arange(1, 101) ** 2                      # Generate squares of numbers 1 through 100\n",
    "\n",
    "A = A.reshape(10, 10)                           # Arrange into a 10x10 array\n",
    "print(\"10x10 Array of Squares:\\n\", A)           # Display the reshaped array"
   ]
  },
  {
   "cell_type": "code",
   "execution_count": 12,
   "id": "d9a44b2f-924a-4cc8-8a19-aee08d202280",
   "metadata": {},
   "outputs": [
    {
     "name": "stdout",
     "output_type": "stream",
     "text": [
      "\n",
      "Numbers divisible by 3:\n",
      " [   9   36   81  144  225  324  441  576  729  900 1089 1296 1521 1764\n",
      " 2025 2304 2601 2916 3249 3600 3969 4356 4761 5184 5625 6084 6561 7056\n",
      " 7569 8100 8649 9216 9801]\n"
     ]
    }
   ],
   "source": [
    "div_by_3 = A[A % 3 == 0]                        # Extract elements divisible by 3\n",
    "\n",
    "np.save(\"div_by_3.npy\", div_by_3)               # Store results in a .npy file\n",
    "\n",
    "print(\"\\nNumbers divisible by 3:\\n\", div_by_3)  # Print extracted elements"
   ]
  }
 ],
 "metadata": {
  "kernelspec": {
   "display_name": "Python [conda env:base] *",
   "language": "python",
   "name": "conda-base-py"
  },
  "language_info": {
   "codemirror_mode": {
    "name": "ipython",
    "version": 3
   },
   "file_extension": ".py",
   "mimetype": "text/x-python",
   "name": "python",
   "nbconvert_exporter": "python",
   "pygments_lexer": "ipython3",
   "version": "3.13.5"
  }
 },
 "nbformat": 4,
 "nbformat_minor": 5
}
